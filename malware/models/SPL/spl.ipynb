{
 "cells": [
  {
   "cell_type": "code",
   "execution_count": 28,
   "metadata": {},
   "outputs": [
    {
     "name": "stdout",
     "output_type": "stream",
     "text": [
      "[[ 1.  2.]]\n"
     ]
    }
   ],
   "source": [
    "#coding:utf-8\n",
    "#author:selous\n",
    "import torch\n",
    "import numpy as np\n",
    "a = torch.Tensor([[1,2]])\n",
    "#config.K = 1\n",
    "\n",
    "#计算向量ｖ\n",
    "def computeV(net,data,labels):\n",
    "    \"\"\"\n",
    "    compute vector v which represent samples in batch choose or not\n",
    "    Args:\n",
    "        data:[batch_size,channel,height,width],Tensor\n",
    "    Return:\n",
    "        v   :[batch_size],\\in{0,1}\n",
    "    \"\"\"\n",
    "    #logits:[batch_size,1]\n",
    "    logits = net(data)\n",
    "    \n",
    "    #compute cross entropy\n",
    "    loss = -(labels*torch.log(logits)+(1-labels)*torch.log(1-logits))\n",
    "    v = loss.lower(1/K)\n",
    "    return v\n",
    "\n",
    "if __name__ == '__man__':\n",
    "    \n",
    "    #each epoch loss\n",
    "    running_loss = 0\n",
    "    \n",
    "    \n",
    "    data[v]\n",
    "    \n",
    "    if loss<0.01:\n",
    "        k = k/2\n",
    "        v = computeV(net,data,labels)\n",
    "\n",
    "print a.numpy()"
   ]
  },
  {
   "cell_type": "code",
   "execution_count": 4,
   "metadata": {},
   "outputs": [
    {
     "name": "stdout",
     "output_type": "stream",
     "text": [
      "[[1 2]]\n"
     ]
    }
   ],
   "source": [
    "import numpy as np\n",
    "\n",
    "a = np.array([[1,2],[3,4]])\n",
    "\n",
    "b = [True,False]\n",
    "print a[b]"
   ]
  },
  {
   "cell_type": "code",
   "execution_count": 26,
   "metadata": {},
   "outputs": [
    {
     "ename": "AttributeError",
     "evalue": "'torch.FloatTensor' object has no attribute 'lr'",
     "output_type": "error",
     "traceback": [
      "\u001b[0;31m---------------------------------------------------------------------------\u001b[0m",
      "\u001b[0;31mAttributeError\u001b[0m                            Traceback (most recent call last)",
      "\u001b[0;32m<ipython-input-26-926975ed9950>\u001b[0m in \u001b[0;36m<module>\u001b[0;34m()\u001b[0m\n\u001b[1;32m      8\u001b[0m \u001b[0;34m\u001b[0m\u001b[0m\n\u001b[1;32m      9\u001b[0m \u001b[0ma\u001b[0m\u001b[0;34m.\u001b[0m\u001b[0mgt\u001b[0m\u001b[0;34m(\u001b[0m\u001b[0;36m1\u001b[0m\u001b[0;34m)\u001b[0m\u001b[0;34m\u001b[0m\u001b[0m\n\u001b[0;32m---> 10\u001b[0;31m \u001b[0ma\u001b[0m\u001b[0;34m.\u001b[0m\u001b[0mlr\u001b[0m\u001b[0;34m(\u001b[0m\u001b[0;36m1\u001b[0m\u001b[0;34m)\u001b[0m\u001b[0;34m\u001b[0m\u001b[0m\n\u001b[0m",
      "\u001b[0;31mAttributeError\u001b[0m: 'torch.FloatTensor' object has no attribute 'lr'"
     ]
    }
   ],
   "source": [
    "import torch\n",
    "\n",
    "a = torch.Tensor([[1,2]])\n",
    "\n",
    "b = torch.Tensor([[3,4]])\n",
    "\n",
    "torch.mul(a,b)\n",
    "\n",
    "a.gt(1)\n",
    "a.lr(1)"
   ]
  },
  {
   "cell_type": "code",
   "execution_count": null,
   "metadata": {
    "collapsed": true
   },
   "outputs": [],
   "source": []
  }
 ],
 "metadata": {
  "kernelspec": {
   "display_name": "Python 2",
   "language": "python",
   "name": "python2"
  },
  "language_info": {
   "codemirror_mode": {
    "name": "ipython",
    "version": 2
   },
   "file_extension": ".py",
   "mimetype": "text/x-python",
   "name": "python",
   "nbconvert_exporter": "python",
   "pygments_lexer": "ipython2",
   "version": "2.7.13"
  }
 },
 "nbformat": 4,
 "nbformat_minor": 2
}
