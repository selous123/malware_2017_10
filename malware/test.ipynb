{
 "cells": [
  {
   "cell_type": "code",
   "execution_count": 46,
   "metadata": {},
   "outputs": [
    {
     "name": "stdout",
     "output_type": "stream",
     "text": [
      "epoch:0\n",
      "epoch:1\n",
      "epoch:2\n",
      "epoch:3\n",
      "epoch:4\n",
      "epoch:5\n",
      "epoch:6\n",
      "epoch:7\n",
      "epoch:8\n",
      "epoch:9\n",
      "torch.Size([128, 3, 32, 32])\n",
      "1\n"
     ]
    }
   ],
   "source": [
    "ROOT_PATH = \"/mnt/hgfs/ubuntu14/dataset/cifar-unbalance-data/\"\n",
    "import torch\n",
    "import torch.utils.data as data\n",
    "import cPickle as pickle\n",
    "import numpy as np\n",
    "import os\n",
    "\n",
    "##read the whole file\n",
    "class cifarUnbalanceDataset(data.Dataset):\n",
    "    \"\"\"\n",
    "    init dataset class\n",
    "    Args:\n",
    "        root : root path\n",
    "        train: is trainging or test\n",
    "        \n",
    "    \"\"\"\n",
    "    def __init__(self,root,train):\n",
    "        self.root = root\n",
    "        self.train = train\n",
    "        if self.train:\n",
    "            ##构建路径\n",
    "            train_path = \"train.pk1\"\n",
    "            path = os.path.join(self.root,train_path)\n",
    "            ##读取文件内容\n",
    "            f = open(path,\"rb\")\n",
    "            datadict = pickle.load(f)\n",
    "            self.train_data = datadict[\"data\"]\n",
    "            self.train_labels = datadict[\"labels\"]\n",
    "            \n",
    "        else:\n",
    "            test_path = \"test.pk1\"\n",
    "            path = os.path.join(self.root,test_path)\n",
    "            ##读取文件内容\n",
    "            f = open(path,\"rb\")\n",
    "            datadict = pickle.load(f)\n",
    "            self.test_data = datadict[\"data\"]\n",
    "            self.test_labels = datadict[\"labels\"]\n",
    "    \n",
    "    def __getitem__(self,index):\n",
    "        if self.train:\n",
    "            return self.train_data[index],self.train_labels[index]\n",
    "        else:\n",
    "            return self.test_data[index],self.test_labels[index]\n",
    "    \n",
    "    def __len__(self):\n",
    "        if self.train:\n",
    "            return len(self.train_data)\n",
    "        else:\n",
    "            return len(self.test_data)\n",
    "if __name__=='__main__':\n",
    "    train_dataset = cifarUnbalanceDataset(ROOT_PATH,train=False)\n",
    "    dataloader = data.DataLoader(train_dataset,batch_size=128,shuffle=True,drop_last = True)\n",
    "    dataiter = iter(dataloader)\n",
    "    for epoch in range(10):\n",
    "        print \"epoch:{}\".format(epoch)\n",
    "        for images,labels in dataiter:\n",
    "             pass\n",
    "    \n",
    "    print images.shape\n",
    "    print np.sum(labels.numpy()==1)"
   ]
  },
  {
   "cell_type": "code",
   "execution_count": 54,
   "metadata": {},
   "outputs": [
    {
     "name": "stdout",
     "output_type": "stream",
     "text": [
      "0\n",
      "1\n",
      "2\n",
      "3\n",
      "4\n",
      "5\n",
      "6\n",
      "7\n",
      "8\n",
      "9\n"
     ]
    }
   ],
   "source": [
    "class test(object):\n",
    "    def __init__(self,i):\n",
    "        self.data = i\n",
    "    \"\"\"\n",
    "    def __iter__(self):\n",
    "        while True:\n",
    "            if self.data > 10:\n",
    "                raise StopIteration\n",
    "            self.data = self.data+1\n",
    "            yield self.data\n",
    "    \"\"\"\n",
    "    def __iter__(self):\n",
    "        for i in range(10):\n",
    "            yield i\n",
    "\n",
    "t = test(1)\n",
    "\n",
    "a = iter(t)\n",
    "print next(a)\n",
    "print next(a)\n",
    "for i in a:\n",
    "    print i"
   ]
  },
  {
   "cell_type": "code",
   "execution_count": 21,
   "metadata": {},
   "outputs": [
    {
     "data": {
      "text/plain": [
       "10"
      ]
     },
     "execution_count": 21,
     "metadata": {},
     "output_type": "execute_result"
    }
   ],
   "source": [
    "class Fib(object):\n",
    "    def __init__(self):\n",
    "        self.a,self.b = 0,1\n",
    "    def __iter__(self):\n",
    "        return self\n",
    "    def next(self):\n",
    "        self.a,self.b = self.b,self.a+self.b\n",
    "        if self.a>10:\n",
    "            raise StopIteration\n",
    "        return 10\n",
    "f = Fib()\n",
    "\n",
    "p_f = iter(f)\n",
    "next(f)\n",
    "\n",
    "#for i in f:\n",
    "#   print i"
   ]
  }
 ],
 "metadata": {
  "kernelspec": {
   "display_name": "Python 2",
   "language": "python",
   "name": "python2"
  },
  "language_info": {
   "codemirror_mode": {
    "name": "ipython",
    "version": 2
   },
   "file_extension": ".py",
   "mimetype": "text/x-python",
   "name": "python",
   "nbconvert_exporter": "python",
   "pygments_lexer": "ipython2",
   "version": "2.7.13"
  }
 },
 "nbformat": 4,
 "nbformat_minor": 2
}
